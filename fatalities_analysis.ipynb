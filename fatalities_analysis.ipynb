{
 "cells": [
  {
   "cell_type": "code",
   "execution_count": null,
   "id": "dda3e465",
   "metadata": {},
   "outputs": [],
   "source": [
    "# Import libraries\n",
    "import pandas as pd\n",
    "import matplotlib.pyplot as plt\n",
    "import seaborn as sns\n",
    "\n",
    "# read dataset\n",
    "df = pd.read_csv('fatalities.csv')"
   ]
  },
  {
   "cell_type": "markdown",
   "id": "dd9f5bf6",
   "metadata": {},
   "source": [
    "# Explore the dataset and identify the trends in fatalities over time. Identify any significant changes, spikes, or declines in the number of fatalities."
   ]
  },
  {
   "cell_type": "code",
   "execution_count": null,
   "id": "90ae9d80",
   "metadata": {
    "scrolled": true
   },
   "outputs": [],
   "source": [
    "# Convert date_of_death column to datetime format \n",
    "df['date_of_death'] = pd.to_datetime(df['date_of_death'])\n",
    "\n",
    "df['year_of_death'] = df['date_of_death'].dt.year\n",
    "\n",
    "# Group year_of_death and count the number of deaths for each year\n",
    "deaths_by_year = df.groupby('year_of_death').size().reset_index(name='no_of_deaths')\n",
    "\n",
    "# Plot the trends\n",
    "plt.figure(figsize=(10, 6))\n",
    "plt.plot(deaths_by_year['year_of_death'], deaths_by_year['no_of_deaths'], marker='o', linestyle='-')\n",
    "plt.title('Number of Fatalities Over the Years')\n",
    "plt.xlabel('Year of Death')\n",
    "plt.ylabel('Number of Fatalities')\n",
    "plt.grid(True)\n",
    "plt.show()\n",
    "\n",
    "\n"
   ]
  },
  {
   "cell_type": "markdown",
   "id": "169dfeed",
   "metadata": {},
   "source": [
    "### This graph show trend of number of fatalities over time. The highest number of deaths occurs is at the year 2014. It shows that most of the times, if one year got less deaths then next year ratio of death increases."
   ]
  },
  {
   "cell_type": "markdown",
   "id": "ac7602f7",
   "metadata": {},
   "source": [
    "# Conduct an analysis by examining the age, gender, and citizenship of the individuals killed. Determine if there are any notable patterns or disparities in the data."
   ]
  },
  {
   "cell_type": "code",
   "execution_count": null,
   "id": "da371fa7",
   "metadata": {},
   "outputs": [],
   "source": [
    "\n",
    "# Drop null values in age and gender\n",
    "df.dropna(subset=['age', 'gender'], inplace=True)\n"
   ]
  },
  {
   "cell_type": "code",
   "execution_count": null,
   "id": "1f55ffff",
   "metadata": {},
   "outputs": [],
   "source": [
    "# Distribution of age\n",
    "plt.figure(figsize=(10, 5))\n",
    "plt.hist(df['age'], bins=20, edgecolor='black', alpha=0.5)\n",
    "plt.title('Distribution of Age')\n",
    "plt.xlabel('Age')\n",
    "plt.ylabel('Total Fatalities')\n",
    "plt.show()"
   ]
  },
  {
   "cell_type": "markdown",
   "id": "3d2b0651",
   "metadata": {},
   "source": [
    "### This graph shows that most individuals killed are of the age 20."
   ]
  },
  {
   "cell_type": "code",
   "execution_count": null,
   "id": "ce306d52",
   "metadata": {},
   "outputs": [],
   "source": [
    "\n",
    "# Plot for gender\n",
    "plt.figure(figsize=(10, 5))\n",
    "gender_counts = df['gender'].value_counts()\n",
    "plt.bar(gender_counts.index, gender_counts, color=['skyblue', 'lightgreen'])\n",
    "plt.title('Gender Distribution')\n",
    "plt.xlabel('Gender')\n",
    "plt.ylabel('Total Fatalities')\n",
    "plt.show()"
   ]
  },
  {
   "cell_type": "markdown",
   "id": "87c9d895",
   "metadata": {},
   "source": [
    "### This graph shows that percentage of males killed are 3 times more than females."
   ]
  },
  {
   "cell_type": "code",
   "execution_count": null,
   "id": "2939f2f3",
   "metadata": {},
   "outputs": [],
   "source": [
    "\n",
    "# Plot for citizenship\n",
    "plt.figure(figsize=(10, 5))\n",
    "citizenship_counts = df['citizenship'].value_counts()\n",
    "plt.bar(citizenship_counts.index, citizenship_counts, color='salmon')\n",
    "plt.title('Citizenship Distribution')\n",
    "plt.xlabel('Citizenship')\n",
    "plt.ylabel('Total Fatalities')\n",
    "plt.xticks(rotation=45, ha='right')\n",
    "plt.show()\n"
   ]
  },
  {
   "cell_type": "markdown",
   "id": "0b6807b2",
   "metadata": {},
   "source": [
    "### This graph shows that mostly citizens killed are from Palestinian"
   ]
  },
  {
   "cell_type": "code",
   "execution_count": null,
   "id": "91ff0d26",
   "metadata": {},
   "outputs": [],
   "source": [
    "\n",
    "# Boxplot of age by citizenship \n",
    "plt.figure(figsize=(10, 5))\n",
    "citizenship_labels = df['citizenship'].unique()\n",
    "citizenship_data = [df[df['citizenship'] == citiz]['age'] for citiz in citizenship_labels]\n",
    "plt.boxplot(citizenship_data, labels=citizenship_labels)\n",
    "plt.title('Age Distribution by Citizenship')\n",
    "plt.xlabel('Citizenship')\n",
    "plt.ylabel('Age')\n",
    "plt.xticks(rotation=45, ha='right')\n",
    "plt.show()\n"
   ]
  },
  {
   "cell_type": "markdown",
   "id": "d4d2dd5f",
   "metadata": {},
   "source": [
    "### This plot shows that in Palestine mostly people killed are of age between 20-30. In Israel, mostly people killed are of age between 20-45. In Jordan, mostly people killed are of age 25-35."
   ]
  },
  {
   "cell_type": "markdown",
   "id": "f83be5ba",
   "metadata": {},
   "source": [
    "###"
   ]
  },
  {
   "cell_type": "markdown",
   "id": "d726a32d",
   "metadata": {},
   "source": [
    "# Visualize the distribution of fatalities and identify areas that have experienced higher levels of violence."
   ]
  },
  {
   "cell_type": "code",
   "execution_count": null,
   "id": "5310a8c8",
   "metadata": {},
   "outputs": [],
   "source": [
    "# Count occurrences of each event_location_district\n",
    "location_counts = df['event_location_district'].value_counts()\n",
    "\n",
    "location_names = location_counts.index.to_numpy()\n",
    "location_counts = location_counts.to_numpy()\n",
    "\n",
    "# Plot a bar chart to visualize fatalities by event_location_district\n",
    "plt.figure(figsize=(10, 5))\n",
    "plt.bar(location_names, location_counts, color='skyblue')\n",
    "plt.title('Fatalities by Location (event_location_district)')  \n",
    "plt.xlabel('Location (event_location_district)') \n",
    "plt.ylabel('Number of Fatalities')  \n",
    "plt.xticks(rotation=45, ha='right') \n",
    "plt.show()\n"
   ]
  },
  {
   "cell_type": "markdown",
   "id": "23efb19c",
   "metadata": {},
   "source": [
    "### This graph shows that most individuals killed are from Gaza."
   ]
  },
  {
   "cell_type": "code",
   "execution_count": null,
   "metadata": {},
   "outputs": [],
   "source": []
  },
  {
   "cell_type": "code",
   "execution_count": null,
   "id": "1c60f384",
   "metadata": {},
   "outputs": [],
   "source": [
    "\n",
    "# Group by event_location_district and calculate the average age for each location\n",
    "age_by_location = df.groupby('event_location_district')['age'].mean().reset_index()\n",
    "\n",
    "# Plot a bar chart to show the average age in each location\n",
    "plt.figure(figsize=(10, 5))\n",
    "plt.bar(age_by_location['event_location_district'], age_by_location['age'], color='skyblue')\n",
    "plt.title('Average Age by Location (event_location_district)')\n",
    "plt.xlabel('Location (event_location_district)')\n",
    "plt.ylabel('Average Age')\n",
    "plt.xticks(rotation=45, ha='right')\n",
    "plt.show()\n"
   ]
  },
  {
   "cell_type": "markdown",
   "id": "77fa26ae",
   "metadata": {},
   "source": [
    "### This graph shows the average age of individuals killed on that location."
   ]
  },
  {
   "cell_type": "code",
   "execution_count": null,
   "id": "94419862",
   "metadata": {},
   "outputs": [],
   "source": [
    "# Count the occurrences of each event_location_region\n",
    "location_counts = df['event_location_region'].value_counts()\n",
    "\n",
    "location_names = location_counts.index.to_numpy()\n",
    "location_counts = location_counts.to_numpy()\n",
    "\n",
    "# Plot a bar chart to visualize fatalities by event location region\n",
    "plt.figure(figsize=(10, 5))\n",
    "plt.bar(location_names, location_counts, color='skyblue')  \n",
    "plt.title('Fatalities by Location (event_location_region)')  \n",
    "plt.xlabel('Location (event_location_region)') \n",
    "plt.ylabel('Number of Fatalities') \n",
    "plt.xticks(rotation=45, ha='right')\n",
    "plt.show()\n"
   ]
  },
  {
   "cell_type": "markdown",
   "id": "ebe30945",
   "metadata": {},
   "source": [
    "### This graph shows tha analysis of even location region. This shows Gaza strip region individuals are killed most."
   ]
  },
  {
   "cell_type": "code",
   "execution_count": null,
   "id": "0a5221dd",
   "metadata": {},
   "outputs": [],
   "source": [
    "\n",
    "# Group by event_location_district and calculate the average age for each location\n",
    "age_by_region = df.groupby('event_location_region')['age'].mean().reset_index()\n",
    "\n",
    "# Plot a bar chart to show the average age in each location\n",
    "plt.figure(figsize=(10, 5))\n",
    "plt.bar(age_by_region['event_location_region'], age_by_region['age'], color='skyblue')\n",
    "plt.title('Average Age by Location (event_location_region)')\n",
    "plt.xlabel('Location (event_location_region)')\n",
    "plt.ylabel('Average Age')\n",
    "plt.xticks(rotation=45, ha='right')\n",
    "plt.show()\n"
   ]
  },
  {
   "cell_type": "markdown",
   "id": "3afc2d00",
   "metadata": {},
   "source": [
    "### This graph shows the Avg age of individuals killed on Gaza strip is 27. Avg age of individuals killed on Israel is 37. Avg age of individuals killed on West Bank is 28."
   ]
  },
  {
   "cell_type": "markdown",
   "id": "e9f501c0",
   "metadata": {},
   "source": [
    "# Examine the types of injuries inflicted on individuals. Identify the most common types of injuries and assess their severity."
   ]
  },
  {
   "cell_type": "code",
   "execution_count": null,
   "id": "ee3c7475",
   "metadata": {
    "scrolled": true
   },
   "outputs": [],
   "source": [
    "# Count the occurrences of each type of injury\n",
    "counts = df['type_of_injury'].value_counts()\n",
    "\n",
    "types = counts.index.to_numpy()\n",
    "counts = counts.to_numpy()\n",
    "\n",
    "# Plot a bar chart to visualize the most common types of injuries\n",
    "plt.figure(figsize=(10, 5))\n",
    "plt.bar(types, counts, color='skyblue') \n",
    "plt.title('Most Common Types of Injuries') \n",
    "plt.xlabel('Types of Injuries') \n",
    "plt.ylabel('Total Fatalities')  \n",
    "plt.xticks(rotation=45, ha='right')  \n",
    "plt.show()\n"
   ]
  },
  {
   "cell_type": "markdown",
   "id": "9553fe8e",
   "metadata": {},
   "source": [
    "### This graph shows most type of injuries occur through gunfire."
   ]
  },
  {
   "cell_type": "code",
   "execution_count": null,
   "id": "a25081ff",
   "metadata": {},
   "outputs": [],
   "source": [
    "\n",
    "# Count the occurrences of each combination of type_of_injury and killed_by\n",
    "injury_killed_by_counts = df.groupby(['type_of_injury', 'killed_by']).size().unstack(fill_value=0)\n",
    "\n",
    "# Plot a grouped bar chart\n",
    "injury_killed_by_counts.plot(kind='bar', figsize=(10, 5))\n",
    "plt.title('Types of Injuries and How Victims Were Killed')\n",
    "plt.xlabel('Types of Injuries')\n",
    "plt.ylabel('Total Fatalities')\n",
    "plt.xticks(rotation=45, ha='right')\n",
    "plt.legend(title='Killed By')\n",
    "plt.show()"
   ]
  },
  {
   "cell_type": "markdown",
   "id": "5875c2eb",
   "metadata": {},
   "source": [
    "### This graph shows israeli forces killed individuals most by gunfire."
   ]
  },
  {
   "cell_type": "markdown",
   "id": "17d73be1",
   "metadata": {},
   "source": [
    "# Analyze the ammunition and means by which the individuals were killed. Determine the most frequently used weapons or methods and evaluate their impact."
   ]
  },
  {
   "cell_type": "code",
   "execution_count": null,
   "id": "684bc4e5",
   "metadata": {},
   "outputs": [],
   "source": [
    "# Fill null values in ammunition column with the mode\n",
    "mode_ammunition = df['ammunition'].mode()[0]\n",
    "df['ammunition'].fillna(mode_ammunition, inplace=True)\n",
    "\n",
    "# frequent means of killing\n",
    "ammunition_impact = df.groupby('ammunition').size().sort_values(ascending=False)\n",
    "\n",
    "# Bar chart to frequent means of killing\n",
    "ammunition_impact.plot(kind='bar', figsize=(10, 5), color='skyblue')\n",
    "plt.title('Most Frequently Used Means of Killing')\n",
    "plt.xlabel('Means of Killing')\n",
    "plt.ylabel('Total Fatalities')\n",
    "plt.xticks(rotation=45, ha='right')\n",
    "plt.show()\n"
   ]
  },
  {
   "cell_type": "markdown",
   "id": "0afa38e6",
   "metadata": {},
   "source": [
    "### This graph shows missile is most used for killing individuals."
   ]
  },
  {
   "cell_type": "code",
   "execution_count": null,
   "id": "1f278fbf",
   "metadata": {},
   "outputs": [],
   "source": [
    "# Convert date_of_death to datetime format \n",
    "df['date_of_death'] = pd.to_datetime(df['date_of_death'])\n",
    "\n",
    "# Count the occurrences of each combination of ammunition and date_of_death\n",
    "ammunition_time_counts = df.groupby(['ammunition', df['date_of_death'].dt.year]).size().unstack(fill_value=0)\n",
    "\n",
    "# Line chart to show the trend over time\n",
    "ammunition_time_counts.T.plot(kind='line', figsize=(10, 5), colormap='coolwarm')\n",
    "plt.title('Trend of Means of Killing Over Time')\n",
    "plt.xlabel('Year')\n",
    "plt.ylabel('Total Fatalities')\n",
    "plt.show()\n"
   ]
  },
  {
   "cell_type": "markdown",
   "id": "d46af1c3",
   "metadata": {},
   "source": [
    "### This graph shows the trend of year the individuals killed with ammunition. In 2014, missile are used at high rate to killed individuals and 2000 individuals are kiiled using missile."
   ]
  },
  {
   "cell_type": "markdown",
   "id": "ff910a30",
   "metadata": {},
   "source": [
    "# Create profiles of the victims based on the available data such as age, gender, citizenship, and place of residence. Identify common characteristics among the victims."
   ]
  },
  {
   "cell_type": "code",
   "execution_count": null,
   "id": "c8d8d258",
   "metadata": {},
   "outputs": [],
   "source": [
    "\n",
    "# Profile on age\n",
    "plt.figure(figsize=(10, 5))\n",
    "plt.hist(df['age'].dropna(), bins=20, color='skyblue', edgecolor='black', alpha=0.5)\n",
    "plt.title('Distribution of Age of Victims')\n",
    "plt.xlabel('Age')\n",
    "plt.ylabel('Total Fatalities')\n",
    "plt.show()\n",
    "\n"
   ]
  },
  {
   "cell_type": "markdown",
   "id": "51274d43",
   "metadata": {},
   "source": [
    "### This graph shows individuals with age 20 are killed most."
   ]
  },
  {
   "cell_type": "code",
   "execution_count": null,
   "id": "38fc21d4",
   "metadata": {},
   "outputs": [],
   "source": [
    "# Profile on gender\n",
    "gender_counts = df['gender'].value_counts()\n",
    "plt.figure(figsize=(10, 5))\n",
    "plt.bar(gender_counts.index, gender_counts.values, color=['skyblue', 'lightgreen'])\n",
    "plt.title('Distribution of Gender Among Victims')\n",
    "plt.xlabel('Gender')\n",
    "plt.ylabel('Total Fatalities')\n",
    "plt.xticks(rotation=0)\n",
    "plt.show()"
   ]
  },
  {
   "cell_type": "markdown",
   "id": "063650dc",
   "metadata": {},
   "source": [
    "### This graph shows mostly males are killed in contrast with females. Number of males killed are above 9500."
   ]
  },
  {
   "cell_type": "code",
   "execution_count": null,
   "id": "be327830",
   "metadata": {
    "scrolled": true
   },
   "outputs": [],
   "source": [
    "# Profile on citizenship\n",
    "citizenship_counts = df['citizenship'].value_counts().head(10)  # To Display top 10\n",
    "plt.figure(figsize=(10, 5))\n",
    "plt.bar(citizenship_counts.index, citizenship_counts.values, color='lightgreen')\n",
    "plt.title('Top 10 Citizenship Among Victims')\n",
    "plt.xlabel('Citizenship')\n",
    "plt.ylabel('Total Fatalities')\n",
    "plt.xticks(rotation=45, ha='right')\n",
    "plt.show()\n"
   ]
  },
  {
   "cell_type": "markdown",
   "id": "3d3d29b5",
   "metadata": {},
   "source": [
    "### This graph shows Palestenians are most killed in contrast of Israel, Jordan and American. Number of Palestinians killed are 10,000."
   ]
  },
  {
   "cell_type": "code",
   "execution_count": null,
   "id": "bfb4d01a",
   "metadata": {},
   "outputs": [],
   "source": [
    "# Profile on place of residence\n",
    "residence_counts = df['place_of_residence'].value_counts().head(10)  # Display top 10\n",
    "plt.figure(figsize=(10, 5))\n",
    "plt.bar(residence_counts.index, residence_counts.values, color='green')\n",
    "plt.title('Top 10 Places of Residence Among Victims')\n",
    "plt.xlabel('Place of Residence')\n",
    "plt.ylabel('Total Fatalities')\n",
    "plt.xticks(rotation=45, ha='right')\n",
    "plt.show()"
   ]
  },
  {
   "cell_type": "markdown",
   "id": "5a7a4512",
   "metadata": {},
   "source": [
    "### This graph shows victims living in Gaza city suffered most."
   ]
  }
 ],
 "metadata": {
  "kernelspec": {
   "display_name": "Python 3 (ipykernel)",
   "language": "python",
   "name": "python3"
  },
  "language_info": {
   "codemirror_mode": {
    "name": "ipython",
    "version": 3
   },
   "file_extension": ".py",
   "mimetype": "text/x-python",
   "name": "python",
   "nbconvert_exporter": "python",
   "pygments_lexer": "ipython3",
   "version": "3.11.5"
  }
 },
 "nbformat": 4,
 "nbformat_minor": 5
}
