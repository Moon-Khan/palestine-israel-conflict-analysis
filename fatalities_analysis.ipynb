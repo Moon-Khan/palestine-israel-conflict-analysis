{
 "cells": [
  {
   "cell_type": "markdown",
   "id": "cfe52c69",
   "metadata": {},
   "source": [
    "## Importing libraries"
   ]
  },
  {
   "cell_type": "code",
   "execution_count": null,
   "id": "dda3e465",
   "metadata": {},
   "outputs": [],
   "source": [
    "# Import libraries\n",
    "import pandas as pd\n",
    "import matplotlib.pyplot as plt\n",
    "import seaborn as sns\n",
    "\n",
    "# Load dataset\n",
    "df = pd.read_csv('fatalities.csv')\n"
   ]
  },
  {
   "cell_type": "markdown",
   "id": "dd9f5bf6",
   "metadata": {},
   "source": [
    "# Explore the dataset and identify the trends in fatalities over time. Identify any significant changes, spikes, or declines in the number of fatalities."
   ]
  },
  {
   "cell_type": "markdown",
   "id": "19fe71d7",
   "metadata": {},
   "source": [
    "## Trend of Fatalities Over the Years"
   ]
  },
  {
   "cell_type": "code",
   "execution_count": null,
   "id": "90ae9d80",
   "metadata": {
    "scrolled": true
   },
   "outputs": [],
   "source": [
    "# Convert date_of_death to datetime format\n",
    "df['date_of_death'] = pd.to_datetime(df['date_of_death'])\n",
    "\n",
    "# Extract year and month from the date_of_death column\n",
    "df['year'] = df['date_of_death'].dt.year\n",
    "df['month'] = df['date_of_death'].dt.month\n",
    "\n",
    "# Group by year and count the no of fatalities for each year\n",
    "fatalities_by_year = df.groupby('year').size().reset_index(name='no_of_fatalities')\n",
    "\n",
    "# Group by month and count the no of fatalities for each month\n",
    "fatalities_by_month = df.groupby(['year', 'month']).size().reset_index(name='no_of_fatalities_monthly')\n",
    "\n",
    "# Plot the trend of fatalities over the years\n",
    "plt.figure(figsize=(10, 5))\n",
    "sns.lineplot(x='year', y='no_of_fatalities', data=fatalities_by_year, marker='o')\n",
    "plt.title('Trend of Fatalities Over the Years')\n",
    "plt.xlabel('Year')\n",
    "plt.ylabel('Number of Fatalities')\n",
    "\n",
    "# Annotation\n",
    "for index, row in fatalities_by_year.iterrows():\n",
    "    plt.annotate(f'{row[\"no_of_fatalities\"]}', \n",
    "                 (row['year'], row['no_of_fatalities']),\n",
    "                 textcoords=\"offset points\",\n",
    "                 xytext=(0, 10),\n",
    "                 ha='center',\n",
    "                 fontsize=8,\n",
    "                 color='black')\n",
    "\n",
    "plt.show()\n",
    "\n"
   ]
  },
  {
   "cell_type": "markdown",
   "id": "169dfeed",
   "metadata": {},
   "source": [
    "#### This graph show trend of number of fatalities over year. The highest number of fatalities occurs is at the year 2014 which were 2326. Number of deaths from Year 2000-2015 are much higher as compare to Year 2015-onwards."
   ]
  },
  {
   "cell_type": "code",
   "execution_count": null,
   "id": "ca0557d1",
   "metadata": {},
   "outputs": [],
   "source": [
    "# Identify spikes in fatalities \n",
    "fatalities_by_year['spike'] = fatalities_by_year['no_of_fatalities'].pct_change() > 0.5\n",
    "\n",
    "# Plot the trend of fatalities over the years \n",
    "plt.figure(figsize=(10, 5))\n",
    "sns.lineplot(x='year', y='no_of_fatalities', data=fatalities_by_year, marker='o', hue='spike', palette={False: 'grey', True: 'red'})\n",
    "plt.title('Trend of Fatalities Over the Years with Spikes Highlighted')\n",
    "plt.xlabel('Year')\n",
    "plt.ylabel('Number of Fatalities')\n",
    "plt.legend(title='Legend', loc='upper left', labels=['No Spike', 'Spike'], labelcolor=['grey', 'red'])\n",
    "plt.show()"
   ]
  },
  {
   "cell_type": "markdown",
   "id": "e9d8c655",
   "metadata": {},
   "source": [
    "#### The spike in the graph indicates a trend from the year 2000 to 2015, if a particular year experienced a lower number of fatalities, the subsequent year tended to increase in fatalities. However, a noticeable shift occurred from 2015 onwards. During this period, the pattern changed slightly. If a year recorded a lower number of fatalities, it no longer consistently resulted in an increase in fatalities the following year."
   ]
  },
  {
   "cell_type": "markdown",
   "id": "a1913a42",
   "metadata": {},
   "source": [
    "## Trend of Fatalities Over the Months"
   ]
  },
  {
   "cell_type": "code",
   "execution_count": null,
   "id": "1f7bd32d",
   "metadata": {},
   "outputs": [],
   "source": [
    "# Plot the trend of fatalities over the months\n",
    "plt.figure(figsize=(10, 5))\n",
    "sns.lineplot(x='month', y='no_of_fatalities_monthly', data=fatalities_by_month, marker='o', hue='year')\n",
    "plt.title('Trend of Fatalities Over the Months')\n",
    "plt.xlabel('Month')\n",
    "plt.ylabel('Number of Fatalities')\n",
    "plt.legend(title='Year', loc='upper right')\n",
    "plt.show()"
   ]
  },
  {
   "cell_type": "markdown",
   "id": "7f0249a6",
   "metadata": {},
   "source": [
    "#### The graph illustrates the trend in the number of fatalities over the months across years. The peak in fatalities occurred during the period from 2012 to 2016, specifically within the months of June to September. This timeframe witnessed the highest number of fatalities. Conversely, the period from 2016 to 2020 exhibited the lowest number of fatalities."
   ]
  },
  {
   "cell_type": "markdown",
   "id": "ac7602f7",
   "metadata": {},
   "source": [
    "# Q2: Conduct an analysis by examining the age, gender, and citizenship of the individuals killed. Determine if there are any notable patterns or disparities in the data."
   ]
  },
  {
   "cell_type": "code",
   "execution_count": null,
   "id": "da371fa7",
   "metadata": {},
   "outputs": [],
   "source": [
    "# Drop null values in age and gender\n",
    "df.dropna(subset=['age', 'gender'], inplace=True)"
   ]
  },
  {
   "cell_type": "markdown",
   "id": "cf1d9fed",
   "metadata": {},
   "source": [
    "## Age Distribuition of individuals killed"
   ]
  },
  {
   "cell_type": "code",
   "execution_count": null,
   "id": "1f55ffff",
   "metadata": {},
   "outputs": [],
   "source": [
    "# Age Distribution\n",
    "plt.figure(figsize=(10, 5))\n",
    "sns.histplot(df['age'], kde=True, color='skyblue')\n",
    "plt.title('Age Distribution of Individuals Killed')\n",
    "plt.xlabel('Age')\n",
    "plt.ylabel('Number of Fatalities')\n",
    "plt.show()\n"
   ]
  },
  {
   "cell_type": "markdown",
   "id": "3d2b0651",
   "metadata": {},
   "source": [
    "#### The graph indicates an occurrence of fatalities among individuals around the age of 20. This pattern suggests a potential focus on targeting the younger generation, as this age group appears to be affected."
   ]
  },
  {
   "cell_type": "markdown",
   "id": "7d0bdfd9",
   "metadata": {},
   "source": [
    "## Gender Distribuition of individuals Killed"
   ]
  },
  {
   "cell_type": "code",
   "execution_count": null,
   "id": "ce306d52",
   "metadata": {},
   "outputs": [],
   "source": [
    "# Gender Distribution\n",
    "plt.figure(figsize=(10, 5))\n",
    "df['gender'].value_counts().plot.pie(autopct='%1.0f%%', colors=['lightblue', 'lightcoral'])\n",
    "plt.title('Gender Distribution of Individuals Killed')\n",
    "plt.ylabel('')\n",
    "plt.show()"
   ]
  },
  {
   "cell_type": "markdown",
   "id": "87c9d895",
   "metadata": {},
   "source": [
    "#### The graph illustrates that approximately 87% of the individuals killed are male. This suggests a focus on targeting men, as the majority of the victims fall within this gender category."
   ]
  },
  {
   "cell_type": "markdown",
   "id": "cbffd48b",
   "metadata": {},
   "source": [
    "## Citizenship Distribution of Individuals Killed "
   ]
  },
  {
   "cell_type": "code",
   "execution_count": null,
   "id": "2939f2f3",
   "metadata": {},
   "outputs": [],
   "source": [
    "# Citizenship Distribution\n",
    "plt.figure(figsize=(10, 5))\n",
    "sns.countplot(x='citizenship', data=df, order=df['citizenship'].value_counts().index, palette='viridis')\n",
    "plt.title('Citizenship Distribution of Individuals Killed')\n",
    "plt.xlabel('Citizenship')\n",
    "plt.ylabel('Number of Fatalities')\n",
    "plt.xticks(rotation=45, ha='right')\n",
    "\n",
    "# Add annotations showing the number of fatalities on top of each bar\n",
    "for index, value in enumerate(df['citizenship'].value_counts()):\n",
    "    plt.text(index, value + 5, str(value), ha='center', va='bottom', fontsize=8)\n",
    "\n",
    "plt.show()\n"
   ]
  },
  {
   "cell_type": "markdown",
   "id": "0b6807b2",
   "metadata": {},
   "source": [
    "#### The graph shows the citizenship distribution of individuals killed in the conflict. The majority of fatalities  were Palestinians, followed by Israelis, Jordanians , and Americans.This graph highlights the disproportionate impact of the conflict on Palestinians, who make up about half of the population in the affected area. It also shows that the conflict is not limited to Palestinians and Israelis, but also affects people of other nationalities."
   ]
  },
  {
   "cell_type": "markdown",
   "id": "63c6beb7",
   "metadata": {},
   "source": [
    "## Age Distribution by Citizenship"
   ]
  },
  {
   "cell_type": "code",
   "execution_count": null,
   "id": "91ff0d26",
   "metadata": {
    "scrolled": true
   },
   "outputs": [],
   "source": [
    "# Age and Citizenship Interaction\n",
    "plt.figure(figsize=(10, 5))\n",
    "sns.boxplot(x='citizenship', y='age', data=df, order=df['citizenship'].value_counts().index, palette='Set3')\n",
    "plt.title('Age Distribution by Citizenship')\n",
    "plt.xlabel('Citizenship')\n",
    "plt.ylabel('Age')\n",
    "plt.xticks(rotation=45, ha='right') \n",
    "plt.show()"
   ]
  },
  {
   "cell_type": "markdown",
   "id": "d4d2dd5f",
   "metadata": {},
   "source": [
    "#### This graph shows the age distribution by citizenship for Palestinian, Israeli, Jordanian, and American individuals killed in the conflict. This shows that median age is around 25 years old for all four citizenship groups. Palestinians have a longer tail on the right-hand side, indicating more older individuals killed. Israelis have a longer tail on the left-hand side, indicating more younger individuals killed. Americans have the longest interquartile range, indicating a wider age distribution."
   ]
  },
  {
   "cell_type": "markdown",
   "id": "350294f5",
   "metadata": {},
   "source": [
    "## Age Distribution by Gender"
   ]
  },
  {
   "cell_type": "code",
   "execution_count": null,
   "id": "28d0b191",
   "metadata": {},
   "outputs": [],
   "source": [
    "# Age and Gender Interaction\n",
    "plt.figure(figsize=(10, 5))\n",
    "sns.boxplot(x='gender', y='age', data=df, palette='Set2')\n",
    "plt.title('Age Distribution by Gender')\n",
    "plt.xlabel('Gender')\n",
    "plt.ylabel('Age')\n",
    "plt.show()\n"
   ]
  },
  {
   "cell_type": "markdown",
   "id": "56a96c70",
   "metadata": {},
   "source": [
    "#### This box and whisker plot shows the distribution of age by gender. The median age is slightly higher for males than for females. There are also more outliers on the right-hand side of the male boxplot. The male population is slightly older and more spread out in terms of age than the female population."
   ]
  },
  {
   "cell_type": "markdown",
   "id": "80875169",
   "metadata": {},
   "source": [
    "## Changes in Age Distribution Over Time"
   ]
  },
  {
   "cell_type": "code",
   "execution_count": null,
   "id": "2eb8de61",
   "metadata": {
    "scrolled": true
   },
   "outputs": [],
   "source": [
    "# Plot the changes in age distribution over time\n",
    "plt.figure(figsize=(10, 5))\n",
    "sns.lineplot(x='year', y='age', data=df, label='Age', marker='o')\n",
    "plt.title('Changes in Age Distribution Over Time')\n",
    "plt.xlabel('Year')\n",
    "plt.ylabel('Average Age')\n",
    "plt.legend()\n",
    "plt.show()\n",
    "\n"
   ]
  },
  {
   "cell_type": "markdown",
   "id": "94e904ed",
   "metadata": {},
   "source": [
    "##### The graph shows the distribution of ages over the years. Specifically, in the year 2014, the highest number of individuals killed were around the age of 23. The overall trend across the years indicates that most number of fatalities lies within the age range of 24 to 28. This observation suggests that their primary focus was on targeting the younger generation throughout the years."
   ]
  },
  {
   "cell_type": "markdown",
   "id": "f55a3995",
   "metadata": {},
   "source": [
    "## Changes in Citizenship Distribution Over Time"
   ]
  },
  {
   "cell_type": "code",
   "execution_count": null,
   "id": "f78bc50c",
   "metadata": {
    "scrolled": true
   },
   "outputs": [],
   "source": [
    "# Plot the changes in citizenship distribution over time\n",
    "plt.figure(figsize=(10, 5))\n",
    "sns.lineplot(x='year', y='count', hue='citizenship', data=df.groupby(['year', 'citizenship']).size().reset_index(name='count'), marker='o')\n",
    "plt.title('Changes in Citizenship Distribution Over Time')\n",
    "plt.xlabel('Year')\n",
    "plt.ylabel('Number of Individuals')\n",
    "plt.legend(title='Citizenship', bbox_to_anchor=(1.05, 1), loc='upper left')\n",
    "plt.show()\n"
   ]
  },
  {
   "cell_type": "markdown",
   "id": "741779d4",
   "metadata": {},
   "source": [
    "#### The graph illustrates the distribution of citizens over the years. In the year 2014, the majority of individuals killed were citizens of Palestine.  Then Israelis accounted for a higher number of fatalities, surpassing Jordanians and Americans. The highest number of Israeli citizens killed occurred in the year 2002."
   ]
  },
  {
   "cell_type": "markdown",
   "id": "e4325b14",
   "metadata": {},
   "source": [
    "## Changes in Age Distribution and Number of Individuals Over Time"
   ]
  },
  {
   "cell_type": "code",
   "execution_count": null,
   "id": "f27bbac6",
   "metadata": {},
   "outputs": [],
   "source": [
    "# Group by year and calculate the average age and count of individuals\n",
    "age_and_count_by_year = df.groupby('year')['age'].agg(['mean', 'count']).reset_index()\n",
    "\n",
    "# Plot the changes in age distribution over time with the number of individuals killed\n",
    "fig, ax1 = plt.subplots(figsize=(10, 5))\n",
    "\n",
    "# Line plot for average age\n",
    "sns.lineplot(x='year', y='mean', data=age_and_count_by_year, label='Average Age',color='blue', marker='o', ax=ax1)\n",
    "ax1.set_xlabel('Year')\n",
    "ax1.set_ylabel('Average Age', color='blue')\n",
    "ax1.tick_params(axis='y', labelcolor='blue')\n",
    "\n",
    "# Create a second y-axis to plot the count of individuals\n",
    "ax2 = ax1.twinx()\n",
    "sns.lineplot(x='year', y='count', data=age_and_count_by_year, label='Number of Individuals', marker='s', color='red', ax=ax2)\n",
    "ax2.set_ylabel('Number of Individuals', color='red')\n",
    "ax2.tick_params(axis='y', labelcolor='red')\n",
    "\n",
    "# Overall title and legend\n",
    "plt.title('Changes in Age Distribution and Number of Individuals Over Time')\n",
    "fig.tight_layout()\n",
    "plt.show()\n"
   ]
  },
  {
   "cell_type": "markdown",
   "id": "6580f6c7",
   "metadata": {},
   "source": [
    "####  The graph illustrates a trend in the distribution of ages over the years. Between 2000 and 2015, the average age of individuals killed was higher compared to the years after 2015. After 2015, their average age tended to be lower as compared to previous ones."
   ]
  },
  {
   "cell_type": "markdown",
   "id": "3d8a3033",
   "metadata": {},
   "source": [
    "## Changes in Age Distribution and Number of Individuals Over Time"
   ]
  },
  {
   "cell_type": "code",
   "execution_count": null,
   "id": "7938d2ab",
   "metadata": {},
   "outputs": [],
   "source": [
    "\n",
    "# Group by year, citizenship, and calculate the average age and count of individuals\n",
    "age_and_count_by_year_citizenship = df.groupby(['year', 'citizenship'])['age'].agg(['mean', 'count']).reset_index()\n",
    "\n",
    "# Plot the changes in age distribution over time with the number of individuals killed for each citizenship\n",
    "plt.figure(figsize=(10, 5))\n",
    "\n",
    "# Line plot for average age\n",
    "sns.lineplot(x='year', y='mean', hue='citizenship', data=age_and_count_by_year_citizenship, palette='viridis', marker='o')\n",
    "plt.xlabel('Year')\n",
    "plt.ylabel('Average Age')\n",
    "plt.title('Changes in Age Distribution Over Time by Citizenship')\n",
    "plt.legend(title='Citizenship', bbox_to_anchor=(1.05, 1), loc='upper left')\n",
    "\n",
    "plt.show()"
   ]
  },
  {
   "cell_type": "markdown",
   "id": "38d473ac",
   "metadata": {},
   "source": [
    "#### The attached graph shows that the average age of Israeli citizens has been increasing over time, while the average age of Palestinian citizens has been decreasing. This suggests that Israel kiiled were of high avg age, while Palestine killed were of lower age overthe time."
   ]
  },
  {
   "cell_type": "markdown",
   "id": "d726a32d",
   "metadata": {},
   "source": [
    "# Visualize the distribution of fatalities and identify areas that have experienced higher levels of violence."
   ]
  },
  {
   "cell_type": "markdown",
   "id": "4aecd97c",
   "metadata": {},
   "source": [
    "## Distribution of Fatalities by Event Location District"
   ]
  },
  {
   "cell_type": "code",
   "execution_count": null,
   "id": "5310a8c8",
   "metadata": {},
   "outputs": [],
   "source": [
    "# Plot the distribution of fatalities based on event location district\n",
    "plt.figure(figsize=(10, 5))\n",
    "sns.countplot(x='event_location_district', data=df, palette='viridis', order=df['event_location_district'].value_counts().index)\n",
    "\n",
    "# Add annotations for number of fatalities\n",
    "for index, value in enumerate(df['event_location_district'].value_counts()):\n",
    "    plt.text(index, value, str(value), ha='center', va='bottom', fontsize=8)\n",
    "\n",
    "plt.title('Distribution of Fatalities by Event Location District')\n",
    "plt.xlabel('Event Location District')\n",
    "plt.ylabel('Number of Fatalities')\n",
    "plt.xticks(rotation=45, ha='right')\n",
    "plt.show()\n"
   ]
  },
  {
   "cell_type": "markdown",
   "id": "23efb19c",
   "metadata": {},
   "source": [
    "#### This graph shows that most individuals killed are from Gaza reaching 2417. "
   ]
  },
  {
   "cell_type": "markdown",
   "id": "f5381807",
   "metadata": {},
   "source": [
    "## Distribution of Fatalities by Event Location Region"
   ]
  },
  {
   "cell_type": "code",
   "execution_count": null,
   "id": "1c60f384",
   "metadata": {
    "scrolled": true
   },
   "outputs": [],
   "source": [
    "# Plot the distribution of fatalities based on event location region\n",
    "plt.figure(figsize=(10, 5))\n",
    "sns.countplot(x='event_location_region', data=df, palette='viridis', order=df['event_location_region'].value_counts().index)\n",
    "\n",
    "# Add annotations for number of fatalities\n",
    "for index, value in enumerate(df['event_location_region'].value_counts()):\n",
    "    plt.text(index, value, str(value), ha='center', va='bottom', fontsize=8)\n",
    "\n",
    "plt.title('Distribution of Fatalities by Event Location Region')\n",
    "plt.xlabel('Event Location Region')\n",
    "plt.ylabel('Number of Fatalities')\n",
    "plt.xticks(rotation=45, ha='right')\n",
    "plt.show()\n"
   ]
  },
  {
   "cell_type": "markdown",
   "id": "f399a5e5",
   "metadata": {},
   "source": [
    "#### This graph shows number of individuals killed are most in Gaza strip reaching 7664."
   ]
  },
  {
   "cell_type": "markdown",
   "id": "f73c024d",
   "metadata": {},
   "source": [
    "## Distribution of Age by Event Location District"
   ]
  },
  {
   "cell_type": "code",
   "execution_count": null,
   "id": "94419862",
   "metadata": {
    "scrolled": true
   },
   "outputs": [],
   "source": [
    "\n",
    "# barplot to show the distribution of age by event location district\n",
    "plt.figure(figsize=(10, 5))\n",
    "sns.barplot(x='event_location_district', y='age', data=df, palette='viridis', errorbar=\"sd\", order=df['event_location_district'].value_counts().index)\n",
    "plt.title('Distribution of Age by Event Location District')\n",
    "plt.xlabel('Event Location District')\n",
    "plt.ylabel('Age')\n",
    "plt.xticks(rotation=45, ha='right')\n",
    "plt.show()\n"
   ]
  },
  {
   "cell_type": "markdown",
   "id": "ebe30945",
   "metadata": {},
   "source": [
    "#### This graph shows tha analysis of even location district with age. This shows individuals kiiled in israeli has avg age highest among all."
   ]
  },
  {
   "cell_type": "markdown",
   "id": "e5443ce5",
   "metadata": {},
   "source": [
    "## Distribution of Age by Event Location District"
   ]
  },
  {
   "cell_type": "code",
   "execution_count": null,
   "id": "0a5221dd",
   "metadata": {},
   "outputs": [],
   "source": [
    "\n",
    "# barplot to show the distribution of age by event location region\n",
    "plt.figure(figsize=(10, 5))\n",
    "sns.barplot(x='event_location_region', y='age', data=df, palette='viridis', errorbar=\"sd\", order=df['event_location_region'].value_counts().index)\n",
    "plt.title('Distribution of Age by Event Location District')\n",
    "plt.xlabel('Event Location Region')\n",
    "plt.ylabel('Age')\n",
    "plt.xticks(rotation=45, ha='right')\n",
    "plt.show()\n",
    "\n"
   ]
  },
  {
   "cell_type": "markdown",
   "id": "3afc2d00",
   "metadata": {},
   "source": [
    "#### The graph indicates that on average, individuals killed in Gaza Strip were 27 years old, those killed in Israel were 37 years old, and those killed in the West Bank were 28 years old. This suggests that the average age of individuals killed in Israel was higher compared to Gaza Strip and the West Bank."
   ]
  },
  {
   "cell_type": "markdown",
   "id": "b96280e3",
   "metadata": {},
   "source": [
    "## Distribution of Fatalities by Gender in Event Location Districts"
   ]
  },
  {
   "cell_type": "code",
   "execution_count": null,
   "id": "d615f1f7",
   "metadata": {},
   "outputs": [],
   "source": [
    "# Bar plot to show the count of fatalities by gender in each event location district\n",
    "plt.figure(figsize=(10, 5))\n",
    "sns.countplot(x='event_location_district', hue='gender', data=df, palette='viridis', order=df['event_location_district'].value_counts().index)\n",
    "\n",
    "# Add annotations for number of fatalities\n",
    "for p in plt.gca().patches:\n",
    "    plt.gca().annotate(f'{int(p.get_height())}', (p.get_x() + p.get_width() / 2., p.get_height()),\n",
    "                       ha='center', va='center', fontsize=8, color='black', xytext=(0, 5),\n",
    "                       textcoords='offset points')\n",
    "\n",
    "plt.title('Distribution of Fatalities by Gender in Event Location Districts')\n",
    "plt.xlabel('Event Location District')\n",
    "plt.ylabel('Number of Fatalities')\n",
    "plt.xticks(rotation=45, ha='right')\n",
    "plt.legend(title='Gender')\n",
    "plt.show()\n"
   ]
  },
  {
   "cell_type": "markdown",
   "id": "e54b736a",
   "metadata": {},
   "source": [
    "####  This graph shows Dsitribuitono of Fatalities with event location district. This graph shows that ratio of Male and Female killed in Gaza is highest."
   ]
  },
  {
   "cell_type": "markdown",
   "id": "5f1b485f",
   "metadata": {},
   "source": [
    "## Distribution of Fatalities by Citizenship in Event Location Regions"
   ]
  },
  {
   "cell_type": "code",
   "execution_count": null,
   "id": "98b886e1",
   "metadata": {
    "scrolled": true
   },
   "outputs": [],
   "source": [
    "# Bar plot to show the count of fatalities by citizenship in each event location region\n",
    "plt.figure(figsize=(10, 5))\n",
    "sns.countplot(x='event_location_region', hue='citizenship', data=df, palette='viridis', order=df['event_location_region'].value_counts().index)\n",
    "\n",
    "# Add annotations for number of fatalities\n",
    "for p in plt.gca().patches:\n",
    "    plt.gca().annotate(f'{int(p.get_height())}', (p.get_x() + p.get_width() / 2., p.get_height()),\n",
    "                       ha='center', va='center', fontsize=8, color='black', xytext=(0, 5),\n",
    "                       textcoords='offset points')\n",
    "\n",
    "plt.title('Distribution of Fatalities by Citizenship in Event Location Regions')\n",
    "plt.xlabel('Event Location Region')\n",
    "plt.ylabel('Number of Fatalities')\n",
    "plt.xticks(rotation=45, ha='right')\n",
    "plt.legend(title='Citizenship')\n",
    "plt.show()\n"
   ]
  },
  {
   "cell_type": "markdown",
   "id": "cd22fbfb",
   "metadata": {},
   "source": [
    "#### This graph showsd Distribuition of Fatalities with citizens in even location region. This shows that in Gaza strip and West Bank , mostly Palestinians were killed."
   ]
  },
  {
   "cell_type": "markdown",
   "id": "7f070ab3",
   "metadata": {},
   "source": [
    "## Count of Fatalities by Event Location Region for Each Year"
   ]
  },
  {
   "cell_type": "code",
   "execution_count": null,
   "id": "7284023c",
   "metadata": {},
   "outputs": [],
   "source": [
    "# Group by year, event location region, and event location district and calculate the count of fatalities\n",
    "violence_by_year_region = df.groupby(['year', 'event_location_region']).size().reset_index(name='count')\n",
    "\n",
    "# Plot the count of fatalities by event location region for each year\n",
    "plt.figure(figsize=(16, 8))\n",
    "sns.barplot(x='year', y='count', hue='event_location_region', data=violence_by_year_region, palette='viridis')\n",
    "plt.title('Count of Fatalities by Event Location Region for Each Year')\n",
    "plt.xlabel('Year')\n",
    "plt.ylabel('Number of Fatalities')\n",
    "plt.legend(title='Event Location Region', bbox_to_anchor=(1.05, 1), loc='upper left')\n",
    "plt.show()"
   ]
  },
  {
   "cell_type": "markdown",
   "id": "5ed5fadc",
   "metadata": {},
   "source": [
    "#### This graph shows count of fatalites with region over years. In 2014, most individuals killed were from Gaza."
   ]
  },
  {
   "cell_type": "markdown",
   "id": "90086cb8",
   "metadata": {},
   "source": [
    "## Count of Fatalities by Event Location District for Each Year"
   ]
  },
  {
   "cell_type": "code",
   "execution_count": null,
   "id": "e307840f",
   "metadata": {
    "scrolled": false
   },
   "outputs": [],
   "source": [
    "violence_by_year_district = df.groupby(['year', 'event_location_district']).size().reset_index(name='count')\n",
    "\n",
    "# Plot the count of fatalities by event location district for each year\n",
    "plt.figure(figsize=(16, 8))\n",
    "sns.barplot(x='year', y='count', hue='event_location_district', data=violence_by_year_district, palette='viridis')\n",
    "plt.title('Count of Fatalities by Event Location District for Each Year')\n",
    "plt.xlabel('Year')\n",
    "plt.ylabel('Number of Fatalities')\n",
    "plt.legend(title='Event Location District', bbox_to_anchor=(1.05, 1), loc='upper left')\n",
    "plt.show()"
   ]
  },
  {
   "cell_type": "markdown",
   "id": "2c109527",
   "metadata": {},
   "source": [
    "## Distribution of Gender by Event Location Region for Each Year"
   ]
  },
  {
   "cell_type": "code",
   "execution_count": null,
   "id": "cf17fc60",
   "metadata": {},
   "outputs": [],
   "source": [
    "# Countplot to show the distribution of gender by event location region for each year\n",
    "plt.figure(figsize=(10, 5))\n",
    "sns.countplot(x='event_location_region', hue='gender', data=df, palette='viridis')\n",
    "\n",
    "# Add annotations for number of fatalities\n",
    "for p in plt.gca().patches:\n",
    "    plt.gca().annotate(f'{int(p.get_height())}', (p.get_x() + p.get_width() / 2., p.get_height()),\n",
    "                       ha='center', va='center', fontsize=8, color='black', xytext=(0, 5),\n",
    "                       textcoords='offset points')\n",
    "\n",
    "plt.title('Distribution of Gender by Event Location Region for Each Year')\n",
    "plt.xlabel('Event Location Region')\n",
    "plt.ylabel('Number of Fatalities')\n",
    "plt.xticks(rotation=45, ha='right')\n",
    "plt.legend(title='Gender', bbox_to_anchor=(1.05, 1), loc='upper left')\n",
    "plt.show()\n"
   ]
  },
  {
   "cell_type": "markdown",
   "id": "76caedd9",
   "metadata": {},
   "source": [
    "#### This graph shows that in Gaza strip, motly males are kiiled reaching 6690. Overall in regions. mostly males are killed over females."
   ]
  },
  {
   "cell_type": "markdown",
   "id": "83c843c3",
   "metadata": {},
   "source": [
    "## Trend of Average Age of Individuals Killed by Event Location Region and Year"
   ]
  },
  {
   "cell_type": "code",
   "execution_count": null,
   "id": "77d27ea5",
   "metadata": {},
   "outputs": [],
   "source": [
    "# Calculate the average age for each event location region and year\n",
    "avg_age_by_region_year = df.groupby(['event_location_region', 'year'])['age'].mean().reset_index()\n",
    "\n",
    "# Line plot to show the trend of average age by event location region for each year\n",
    "plt.figure(figsize=(10, 5))\n",
    "sns.lineplot(x='year', y='age', hue='event_location_region', data=avg_age_by_region_year, palette='viridis', marker='o')\n",
    "plt.title('Trend of Average Age of Individuals Killed by Event Location Region and Year')\n",
    "plt.xlabel('Year')\n",
    "plt.ylabel('Average Age')\n",
    "plt.legend(title='Event Location Region', bbox_to_anchor=(1.05, 1), loc='upper left')\n",
    "plt.show()"
   ]
  },
  {
   "cell_type": "markdown",
   "id": "ef51d29b",
   "metadata": {},
   "source": [
    "#### This graph shows that in  avg age of Gaza Strip  is lower than israeli. This shows individuals with lower age are killed more in Gaza Strip as compared to israel."
   ]
  },
  {
   "cell_type": "markdown",
   "id": "e9f501c0",
   "metadata": {},
   "source": [
    "# Q4: Examine the types of injuries inflicted on individuals. Identify the most common types of injuries and assess their severity."
   ]
  },
  {
   "cell_type": "markdown",
   "id": "a668c84b",
   "metadata": {},
   "source": [
    "## Distribution of Types of Injuries"
   ]
  },
  {
   "cell_type": "code",
   "execution_count": null,
   "id": "ee3c7475",
   "metadata": {
    "scrolled": false
   },
   "outputs": [],
   "source": [
    "# Count the occurrences of each type of injury\n",
    "injury_counts = df['type_of_injury'].value_counts()\n",
    "\n",
    "# Plot the distribution of injury types\n",
    "plt.figure(figsize=(10, 5))\n",
    "sns.barplot(x=injury_counts.index, y=injury_counts.values, palette='viridis')\n",
    "\n",
    "# Add annotations for number of occurrences\n",
    "for index, value in enumerate(injury_counts):\n",
    "    plt.text(index, value, str(value), ha='center', va='bottom', fontsize=8)\n",
    "\n",
    "plt.title('Distribution of Types of Injuries')\n",
    "plt.xlabel('Type of Injury')\n",
    "plt.ylabel('Number of Fatalities')\n",
    "plt.xticks(rotation=45, ha='right')\n",
    "plt.show()\n"
   ]
  },
  {
   "cell_type": "markdown",
   "id": "9553fe8e",
   "metadata": {},
   "source": [
    "#### This graph shows most type of injuries occur through gunfire."
   ]
  },
  {
   "cell_type": "markdown",
   "id": "e39c974e",
   "metadata": {},
   "source": [
    "## Relationship Between Type of Injury and Entities Responsible for Deaths"
   ]
  },
  {
   "cell_type": "code",
   "execution_count": null,
   "id": "a25081ff",
   "metadata": {},
   "outputs": [],
   "source": [
    "# Group by type_of_injury and killed_by then count the number of individuals killed\n",
    "heatmap_data = df_filtered.groupby(['type_of_injury', 'killed_by']).size().unstack(fill_value=0)\n",
    "\n",
    "# Plotting the heatmap\n",
    "plt.figure(figsize=(10, 5))\n",
    "sns.heatmap(heatmap_data, cmap='viridis', annot=True, fmt='g', linewidths=.5, cbar_kws={'label': 'Number of Individuals Killed'})\n",
    "plt.title('Relationship Between Type of Injury and Entities Responsible for Deaths')\n",
    "plt.xlabel('Entities Responsible for Deaths')\n",
    "plt.ylabel('Type of Injury')\n",
    "plt.tight_layout()\n",
    "plt.show()\n"
   ]
  },
  {
   "cell_type": "markdown",
   "id": "5875c2eb",
   "metadata": {},
   "source": [
    "#### This graph shows israeli security forces killed individuals most by gunfire reaching 9223."
   ]
  },
  {
   "cell_type": "markdown",
   "id": "17d73be1",
   "metadata": {},
   "source": [
    "# Analyze the ammunition and means by which the individuals were killed. Determine the most frequently used weapons or methods and evaluate their impact."
   ]
  },
  {
   "cell_type": "markdown",
   "id": "a8c03dc1",
   "metadata": {},
   "source": [
    "## Distribution of Types of Ammunition"
   ]
  },
  {
   "cell_type": "code",
   "execution_count": null,
   "id": "684bc4e5",
   "metadata": {},
   "outputs": [],
   "source": [
    "# Fill missing values in the ammunition column with the mode\n",
    "df['ammunition'] = df['ammunition'].fillna(df['ammunition'].mode()[0])\n",
    "\n",
    "# Count the occurrences of each type of ammunition\n",
    "ammunition_counts = df['ammunition'].value_counts()\n",
    "\n",
    "# Horizontal bar plot for types of ammunition\n",
    "plt.figure(figsize=(10, 5))\n",
    "sns.barplot(x=ammunition_counts.values, y=ammunition_counts.index, palette='viridis')\n",
    "\n",
    "# Add annotations for number of occurrences\n",
    "for index, value in enumerate(ammunition_counts.values):\n",
    "    plt.text(value, index, str(value), ha='left', va='center', fontsize=8)\n",
    "\n",
    "plt.title('Distribution of Types of Ammunition')\n",
    "plt.xlabel('Count')\n",
    "plt.ylabel('Type of Ammunition')\n",
    "plt.tight_layout()\n",
    "plt.show()\n"
   ]
  },
  {
   "cell_type": "markdown",
   "id": "0afa38e6",
   "metadata": {},
   "source": [
    "### This graph shows missile is most used for killing individuals."
   ]
  },
  {
   "cell_type": "markdown",
   "id": "0a0f90d1",
   "metadata": {},
   "source": [
    "## Relationship Between Type of Ammunition and Entities Responsible for Deaths"
   ]
  },
  {
   "cell_type": "code",
   "execution_count": null,
   "id": "1f278fbf",
   "metadata": {
    "scrolled": true
   },
   "outputs": [],
   "source": [
    "\n",
    "# Group by ammunition and killed_by, then count the number of individuals killed\n",
    "heatmap_data = df_filtered.groupby(['ammunition', 'killed_by']).size().unstack(fill_value=0)\n",
    "\n",
    "# Plotting the heatmap\n",
    "\n",
    "plt.figure(figsize=(10, 5))\n",
    "sns.heatmap(heatmap_data, cmap='viridis', annot=True, fmt='g', linewidths=.5, cbar_kws={'label': 'Number of Individuals Killed'})\n",
    "plt.title('Relationship Between Type of Ammunition and Entities Responsible for Deaths')\n",
    "plt.xlabel('Entities Responsible for Deaths')\n",
    "plt.ylabel('Type of Ammunition')\n",
    "plt.tight_layout()\n",
    "plt.show()"
   ]
  },
  {
   "cell_type": "markdown",
   "id": "d46af1c3",
   "metadata": {},
   "source": [
    "#### This graph shows that israeli forces uses missile and live amminition most to kill individuals."
   ]
  },
  {
   "cell_type": "markdown",
   "id": "ff910a30",
   "metadata": {},
   "source": [
    "# Create profiles of the victims based on the available data such as age, gender, citizenship, and place of residence. Identify common characteristics among the victims."
   ]
  },
  {
   "cell_type": "markdown",
   "id": "4e00eb13",
   "metadata": {},
   "source": [
    "## Age Distribution of Victims"
   ]
  },
  {
   "cell_type": "code",
   "execution_count": null,
   "id": "c8d8d258",
   "metadata": {
    "scrolled": true
   },
   "outputs": [],
   "source": [
    "# Age distribution\n",
    "plt.figure(figsize=(10, 5))\n",
    "sns.histplot(df['age'].dropna(), bins=30, kde=True, color='skyblue')\n",
    "plt.title('Age Distribution of Victims')\n",
    "plt.xlabel('Age')\n",
    "plt.ylabel('Count')\n",
    "plt.show()\n"
   ]
  },
  {
   "cell_type": "markdown",
   "id": "51274d43",
   "metadata": {},
   "source": [
    "#### This graph shows individuals with age 20 are killed most."
   ]
  },
  {
   "cell_type": "markdown",
   "id": "dd355485",
   "metadata": {},
   "source": [
    "## Gender Distribution of Victims"
   ]
  },
  {
   "cell_type": "code",
   "execution_count": null,
   "id": "38fc21d4",
   "metadata": {
    "scrolled": true
   },
   "outputs": [],
   "source": [
    "# Gender distribution with custom colors\n",
    "plt.figure(figsize=(10, 5))\n",
    "gender_counts = df['gender'].value_counts()\n",
    "sns.barplot(x=gender_counts.index, y=gender_counts.values, palette=['skyblue', 'lightgreen'])\n",
    "\n",
    "# Add annotations for number of occurrences\n",
    "for index, value in enumerate(gender_counts.values):\n",
    "    plt.text(index, value, str(value), ha='center', va='bottom', fontsize=8, color='black')\n",
    "\n",
    "plt.title('Gender Distribution of Victims')\n",
    "plt.xlabel('Gender')\n",
    "plt.ylabel('Number of Fatalities')\n",
    "plt.show()\n"
   ]
  },
  {
   "cell_type": "markdown",
   "id": "063650dc",
   "metadata": {},
   "source": [
    "#### This graph shows mostly males are killed in contrast with females. Number of males killed reaching 9601."
   ]
  },
  {
   "cell_type": "markdown",
   "id": "8a03792d",
   "metadata": {},
   "source": [
    "## Top 5 Citizenship Distribution of Victims"
   ]
  },
  {
   "cell_type": "code",
   "execution_count": null,
   "id": "be327830",
   "metadata": {
    "scrolled": true
   },
   "outputs": [],
   "source": [
    "# Citizenship distribution (Top 5) - Horizontal Bar Plot\n",
    "plt.figure(figsize=(10, 5))\n",
    "top_citizenships = df['citizenship'].value_counts().head(5)\n",
    "sns.barplot(x=top_citizenships.values, y=top_citizenships.index, palette='Set3')\n",
    "\n",
    "# Add annotations for number of occurrences\n",
    "for index, value in enumerate(top_citizenships.values):\n",
    "    plt.text(value, index, str(value), ha='left', va='center', fontsize=8)\n",
    "\n",
    "plt.title('Top 5 Citizenship Distribution of Victims')\n",
    "plt.xlabel('Number of Fatalities')\n",
    "plt.ylabel('Citizenship')\n",
    "plt.show()\n"
   ]
  },
  {
   "cell_type": "markdown",
   "id": "3d3d29b5",
   "metadata": {},
   "source": [
    "#### This graph shows Palestenians are most killed in contrast of Israel, Jordan and American. Number of Palestinians killed are 10,000."
   ]
  },
  {
   "cell_type": "markdown",
   "id": "86ea39c5",
   "metadata": {},
   "source": [
    "## Top 5 Place of Residence Distribution of Victims"
   ]
  },
  {
   "cell_type": "code",
   "execution_count": null,
   "id": "bfb4d01a",
   "metadata": {
    "scrolled": true
   },
   "outputs": [],
   "source": [
    "# Place of residence distribution (Top 5)\n",
    "plt.figure(figsize=(10, 5))\n",
    "top_residences = df['place_of_residence'].value_counts().head(5)\n",
    "sns.barplot(x=top_residences.index, y=top_residences.values, color='lightgreen')\n",
    "\n",
    "# Add annotations for number of occurrences\n",
    "for index, value in enumerate(top_residences.values):\n",
    "    plt.text(index, value, str(value), ha='center', va='bottom', fontsize=8, color='black')\n",
    "\n",
    "plt.title('Top 5 Place of Residence Distribution of Victims')\n",
    "plt.xlabel('Place of Residence')\n",
    "plt.ylabel('Number of Fatalities')\n",
    "plt.show()\n"
   ]
  },
  {
   "cell_type": "markdown",
   "id": "5a7a4512",
   "metadata": {},
   "source": [
    "#### This graph shows victims living in Gaza city suffered most."
   ]
  }
 ],
 "metadata": {
  "kernelspec": {
   "display_name": "Python 3 (ipykernel)",
   "language": "python",
   "name": "python3"
  },
  "language_info": {
   "codemirror_mode": {
    "name": "ipython",
    "version": 3
   },
   "file_extension": ".py",
   "mimetype": "text/x-python",
   "name": "python",
   "nbconvert_exporter": "python",
   "pygments_lexer": "ipython3",
   "version": "3.10.9"
  }
 },
 "nbformat": 4,
 "nbformat_minor": 5
}
